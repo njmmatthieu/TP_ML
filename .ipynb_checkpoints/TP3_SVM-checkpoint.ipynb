{
 "cells": [
  {
   "cell_type": "markdown",
   "metadata": {},
   "source": [
    "# TP 3: Support Vector Machines (SVM) & kernel methods"
   ]
  },
  {
   "cell_type": "markdown",
   "metadata": {},
   "source": [
    "In this tutorial we will try to predict the species of a penguin from its physical characteristics using support vector machines (SVM).\n",
    "\n",
    "For this we will use the *palmerpenguins* dataset, an alternative to the now classic *iris* of scikit-learn. It contains the characteristics of three species of penguins found on the Palmer Archipelago, off the northwest coast of the Antarctic Peninsula.\n",
    "\n",
    "Pour plus d'informations, vous pouvez allez voir le site: https://allisonhorst.github.io/palmerpenguins/index.html"
   ]
  },
  {
   "cell_type": "code",
   "execution_count": 1,
   "metadata": {
    "ExecuteTime": {
     "end_time": "2019-11-05T14:45:37.554027Z",
     "start_time": "2019-11-05T14:45:37.096188Z"
    }
   },
   "outputs": [],
   "source": [
    "import numpy as np\n",
    "import matplotlib.pyplot as plt\n",
    "%matplotlib inline\n",
    "%config InlineBackend.figure_format = 'retina'"
   ]
  },
  {
   "cell_type": "code",
   "execution_count": 5,
   "metadata": {},
   "outputs": [
    {
     "ename": "ModuleNotFoundError",
     "evalue": "No module named 'pandas'",
     "output_type": "error",
     "traceback": [
      "\u001b[0;31m---------------------------------------------------------------------------\u001b[0m",
      "\u001b[0;31mModuleNotFoundError\u001b[0m                       Traceback (most recent call last)",
      "Input \u001b[0;32mIn [5]\u001b[0m, in \u001b[0;36m<module>\u001b[0;34m\u001b[0m\n\u001b[0;32m----> 1\u001b[0m \u001b[38;5;28;01mimport\u001b[39;00m \u001b[38;5;21;01mpandas\u001b[39;00m\n",
      "\u001b[0;31mModuleNotFoundError\u001b[0m: No module named 'pandas'"
     ]
    }
   ],
   "source": [
    "import pandas"
   ]
  },
  {
   "cell_type": "markdown",
   "metadata": {},
   "source": [
    "## I- Importing data"
   ]
  },
  {
   "cell_type": "markdown",
   "metadata": {},
   "source": [
    "### 1) with pip\n",
    "To install the package to access the data: **pip install palmerpenguins**"
   ]
  },
  {
   "cell_type": "code",
   "execution_count": 3,
   "metadata": {},
   "outputs": [
    {
     "ename": "ModuleNotFoundError",
     "evalue": "No module named 'palmerpenguins'",
     "output_type": "error",
     "traceback": [
      "\u001b[0;31m---------------------------------------------------------------------------\u001b[0m",
      "\u001b[0;31mModuleNotFoundError\u001b[0m                       Traceback (most recent call last)",
      "Input \u001b[0;32mIn [3]\u001b[0m, in \u001b[0;36m<module>\u001b[0;34m\u001b[0m\n\u001b[0;32m----> 1\u001b[0m \u001b[38;5;28;01mfrom\u001b[39;00m \u001b[38;5;21;01mpalmerpenguins\u001b[39;00m \u001b[38;5;28;01mimport\u001b[39;00m load_penguins\n\u001b[1;32m      2\u001b[0m penguins \u001b[38;5;241m=\u001b[39m load_penguins()\n",
      "\u001b[0;31mModuleNotFoundError\u001b[0m: No module named 'palmerpenguins'"
     ]
    }
   ],
   "source": [
    "from palmerpenguins import load_penguins\n",
    "penguins = load_penguins()"
   ]
  },
  {
   "cell_type": "markdown",
   "metadata": {},
   "source": [
    "### 2) in csv format\n",
    "If you do not have *pip* and cannot download the package in any other way, you have the data in .csv format in moodle."
   ]
  },
  {
   "cell_type": "code",
   "execution_count": 6,
   "metadata": {},
   "outputs": [
    {
     "ename": "NameError",
     "evalue": "name 'pd' is not defined",
     "output_type": "error",
     "traceback": [
      "\u001b[0;31m---------------------------------------------------------------------------\u001b[0m",
      "\u001b[0;31mNameError\u001b[0m                                 Traceback (most recent call last)",
      "Input \u001b[0;32mIn [6]\u001b[0m, in \u001b[0;36m<module>\u001b[0;34m\u001b[0m\n\u001b[1;32m      1\u001b[0m \u001b[38;5;66;03m# import pandas as pd\u001b[39;00m\n\u001b[0;32m----> 2\u001b[0m palmerpenguins \u001b[38;5;241m=\u001b[39m \u001b[43mpd\u001b[49m\u001b[38;5;241m.\u001b[39mread_csv(\u001b[38;5;124m\"\u001b[39m\u001b[38;5;124mpalmerpenguins_data.csv\u001b[39m\u001b[38;5;124m\"\u001b[39m)\n",
      "\u001b[0;31mNameError\u001b[0m: name 'pd' is not defined"
     ]
    }
   ],
   "source": [
    "# import pandas as pd\n",
    "palmerpenguins = pd.read_csv(\"palmerpenguins_data.csv\")"
   ]
  },
  {
   "cell_type": "markdown",
   "metadata": {},
   "source": [
    "## II- Dataset description "
   ]
  },
  {
   "cell_type": "code",
   "execution_count": null,
   "metadata": {},
   "outputs": [],
   "source": [
    "palmerpenguins.head()"
   ]
  },
  {
   "cell_type": "code",
   "execution_count": null,
   "metadata": {},
   "outputs": [],
   "source": [
    "import collections\n",
    "print(palmerpenguins.shape)\n",
    "print(collections.Counter(palmerpenguins.species))"
   ]
  },
  {
   "cell_type": "markdown",
   "metadata": {},
   "source": [
    "**344** penguins with **8** attributes:\n",
    "- *species*: Adelie (152 penguins), Gentoo (124 penguins) and Ginstrap (68 penguins)\n",
    "- *island* (the census island): Biscoe, Dream and Torgersen\n",
    "- *bill_length_mm*: length of the bill in mm\n",
    "- *bil_depth_mm*: width of the bill in mm\n",
    "- *flipper_length_mm*: width of flippers in mm\n",
    "- *body_mass_g*: weight in g\n",
    "- *sex*: male and female\n",
    "- *year*: year of census"
   ]
  },
  {
   "cell_type": "markdown",
   "metadata": {},
   "source": [
    "### Missing values"
   ]
  },
  {
   "cell_type": "code",
   "execution_count": 7,
   "metadata": {},
   "outputs": [
    {
     "ename": "NameError",
     "evalue": "name 'palmerpenguins' is not defined",
     "output_type": "error",
     "traceback": [
      "\u001b[0;31m---------------------------------------------------------------------------\u001b[0m",
      "\u001b[0;31mNameError\u001b[0m                                 Traceback (most recent call last)",
      "Input \u001b[0;32mIn [7]\u001b[0m, in \u001b[0;36m<module>\u001b[0;34m\u001b[0m\n\u001b[0;32m----> 1\u001b[0m \u001b[43mpalmerpenguins\u001b[49m\u001b[38;5;241m.\u001b[39misnull()\u001b[38;5;241m.\u001b[39msum()\n",
      "\u001b[0;31mNameError\u001b[0m: name 'palmerpenguins' is not defined"
     ]
    }
   ],
   "source": [
    "palmerpenguins.isnull().sum()"
   ]
  },
  {
   "cell_type": "markdown",
   "metadata": {},
   "source": [
    "You notice that there are some observations for which information is missing. This is called **missing values**. \n",
    "Here we decide to ignore these observations. This leaves us with 342 labels to predict."
   ]
  },
  {
   "cell_type": "code",
   "execution_count": null,
   "metadata": {},
   "outputs": [],
   "source": [
    "palmerpenguins = palmerpenguins[palmerpenguins['bill_depth_mm'].notna()]\n",
    "palmerpenguins = palmerpenguins.reset_index()\n",
    "palmerpenguins.shape"
   ]
  },
  {
   "cell_type": "markdown",
   "metadata": {},
   "source": [
    "Instead of ignoring incomplete observations, a solution which is often better (from the point of view of the performance of data-driven decision models) is to **estimate** (or **impute**) the missing data and treat the estimated values as measured values.  \n",
    "\n",
    "For this we could have used the *SimpleImputer* function of *sklearn.impute*. For more information, you can go to the site: https://scikit-learn.org/stable/modules/impute.html#impute"
   ]
  },
  {
   "cell_type": "markdown",
   "metadata": {},
   "source": [
    "### Features"
   ]
  },
  {
   "cell_type": "markdown",
   "metadata": {},
   "source": [
    "For the rest of the tutorial, we will only be interested in the numerical features *bill_depth_mm*, *bill_length_mm*, *flipper_length_mm* and *body_mass_g*."
   ]
  },
  {
   "cell_type": "code",
   "execution_count": 8,
   "metadata": {},
   "outputs": [
    {
     "ename": "NameError",
     "evalue": "name 'palmerpenguins' is not defined",
     "output_type": "error",
     "traceback": [
      "\u001b[0;31m---------------------------------------------------------------------------\u001b[0m",
      "\u001b[0;31mNameError\u001b[0m                                 Traceback (most recent call last)",
      "Input \u001b[0;32mIn [8]\u001b[0m, in \u001b[0;36m<module>\u001b[0;34m\u001b[0m\n\u001b[0;32m----> 1\u001b[0m penguins_features \u001b[38;5;241m=\u001b[39m \u001b[43mpalmerpenguins\u001b[49m[[\u001b[38;5;124m\"\u001b[39m\u001b[38;5;124mbill_length_mm\u001b[39m\u001b[38;5;124m\"\u001b[39m, \u001b[38;5;124m\"\u001b[39m\u001b[38;5;124mbill_depth_mm\u001b[39m\u001b[38;5;124m\"\u001b[39m,\u001b[38;5;124m\"\u001b[39m\u001b[38;5;124mbody_mass_g\u001b[39m\u001b[38;5;124m\"\u001b[39m, \u001b[38;5;124m\"\u001b[39m\u001b[38;5;124mflipper_length_mm\u001b[39m\u001b[38;5;124m\"\u001b[39m]]\n",
      "\u001b[0;31mNameError\u001b[0m: name 'palmerpenguins' is not defined"
     ]
    }
   ],
   "source": [
    "penguins_features = palmerpenguins[[\"bill_length_mm\", \"bill_depth_mm\",\"body_mass_g\", \"flipper_length_mm\"]]"
   ]
  },
  {
   "cell_type": "markdown",
   "metadata": {},
   "source": [
    "### Labels"
   ]
  },
  {
   "cell_type": "markdown",
   "metadata": {},
   "source": [
    "We will try to predict the species, which corresponds to the attribute **species** but in integer form. It will then be easier to handle the species as integers than as text."
   ]
  },
  {
   "cell_type": "code",
   "execution_count": null,
   "metadata": {},
   "outputs": [],
   "source": [
    "species_names, species_int = np.unique(palmerpenguins.species, return_inverse=True)\n",
    "print(species_names)"
   ]
  },
  {
   "cell_type": "code",
   "execution_count": null,
   "metadata": {},
   "outputs": [],
   "source": [
    "penguins_labels = pd.DataFrame(palmerpenguins[\"species\"])\n",
    "penguins_labels[\"species_int\"] = species_int"
   ]
  },
  {
   "cell_type": "code",
   "execution_count": null,
   "metadata": {},
   "outputs": [],
   "source": [
    "penguins_labels"
   ]
  },
  {
   "cell_type": "markdown",
   "metadata": {},
   "source": [
    "## III- SVM à noyau linéaire"
   ]
  },
  {
   "cell_type": "markdown",
   "metadata": {},
   "source": [
    "### 1. Cas standard"
   ]
  },
  {
   "cell_type": "markdown",
   "metadata": {},
   "source": [
    "Pour l'instant, nous allons nous limiter à **deux espèces (labels)** : **Adelie (0)** et **Gentoo (2)** et **deux variables \n",
    " (features)** : *body_mass_g* et *bill_length_mm*.\n",
    " \n",
    "Nous allons entrainer une **SVM linéaire**.\n",
    "Nous allons utiliser la classe [SVC](http://scikit-learn.org/stable/modules/generated/sklearn.svm.SVC.html#sklearn.svm.SVC) du module svm de scikit-learn."
   ]
  },
  {
   "cell_type": "code",
   "execution_count": null,
   "metadata": {
    "ExecuteTime": {
     "end_time": "2019-11-05T14:45:38.159339Z",
     "start_time": "2019-11-05T14:45:38.093422Z"
    }
   },
   "outputs": [],
   "source": [
    "from sklearn import svm"
   ]
  },
  {
   "cell_type": "code",
   "execution_count": null,
   "metadata": {
    "ExecuteTime": {
     "end_time": "2019-11-05T14:45:38.169688Z",
     "start_time": "2019-11-05T14:45:38.160986Z"
    }
   },
   "outputs": [],
   "source": [
    "# Select the 2 features\n",
    "data = penguins_features[penguins_labels[\"species_int\"].isin([0,2])] \n",
    "data = np.array(data[[\"body_mass_g\", \"bill_length_mm\"]])\n",
    "# data = np.array(data[[\"body_mass_g\", \"flipper_length_mm\"]])\n",
    "print(\"X shape:\", data.shape)\n",
    "\n",
    "# select the corresponding labels\n",
    "labels = penguins_labels[penguins_labels[\"species_int\"].isin([0,2])]\n",
    "labels = np.array(labels[\"species_int\"])\n",
    "print(\"y shape:\", labels.shape)\n",
    "\n",
    "# initialize a model\n",
    "clf = svm.SVC(kernel='linear', C=10)\n",
    "\n",
    "# fit the model\n",
    "clf.fit(X= data, y = labels)"
   ]
  },
  {
   "cell_type": "markdown",
   "metadata": {},
   "source": [
    "Affichons la performance du prédicteur :"
   ]
  },
  {
   "cell_type": "code",
   "execution_count": null,
   "metadata": {
    "ExecuteTime": {
     "end_time": "2019-11-05T14:45:38.926632Z",
     "start_time": "2019-11-05T14:45:38.922976Z"
    }
   },
   "outputs": [],
   "source": [
    "print(clf.score(data, labels))"
   ]
  },
  {
   "cell_type": "markdown",
   "metadata": {},
   "source": [
    "### Q1"
   ]
  },
  {
   "cell_type": "markdown",
   "metadata": {},
   "source": [
    "__Question :__ Quelle mesure de performance est calculée par [`clf.score`](http://scikit-learn.org/stable/modules/generated/sklearn.svm.SVC.html#sklearn.svm.SVC.score) ?\n",
    "\n",
    "__Réponse :__"
   ]
  },
  {
   "cell_type": "markdown",
   "metadata": {},
   "source": [
    "### 2. Standardisation des variables"
   ]
  },
  {
   "cell_type": "markdown",
   "metadata": {},
   "source": [
    "Standardisons les variables (en leur retirant leur moyenne et en les divisant par leur écart-type) et regardons si cela a une influence sur la performance du SVM. Cette tâche est entièrement automatisée par `scikit-learn` :\n",
    "https://scikit-learn.org/stable/modules/generated/sklearn.preprocessing.StandardScaler.html"
   ]
  },
  {
   "cell_type": "code",
   "execution_count": null,
   "metadata": {},
   "outputs": [],
   "source": [
    "from sklearn import preprocessing\n",
    "\n",
    "# Select the 2 features\n",
    "data = penguins_features[penguins_labels[\"species_int\"].isin([0,2])] \n",
    "#data = np.array(data[[\"body_mass_g\", \"bill_length_mm\"]])\n",
    "data = np.array(data[[\"body_mass_g\", \"flipper_length_mm\"]])\n",
    "\n",
    "# Scale them\n",
    "std_scale = preprocessing.StandardScaler().fit(data)\n",
    "data_scaled = std_scale.transform(data)\n",
    "\n",
    "# select the corresponding labels\n",
    "labels = penguins_labels[penguins_labels[\"species_int\"].isin([0,2])]\n",
    "labels = np.array(labels[\"species_int\"])\n",
    "\n",
    "# initialize a model\n",
    "clf = svm.SVC(kernel='linear', C=1)\n",
    "\n",
    "# fit the model\n",
    "clf.fit(X= data_scaled, y = labels)"
   ]
  },
  {
   "cell_type": "markdown",
   "metadata": {},
   "source": [
    "Représentons l'hyperplan séparateur !"
   ]
  },
  {
   "cell_type": "code",
   "execution_count": null,
   "metadata": {},
   "outputs": [],
   "source": [
    "plt.figure(figsize=(10, 10))\n",
    "\n",
    "# plot the point cloud\n",
    "adelie = plt.scatter(data_scaled[np.where(penguins_labels[\"species_int\"]==0),0], \n",
    "                    data_scaled[np.where(penguins_labels[\"species_int\"]==0),1], \n",
    "                    color=\"royalblue\", \n",
    "                    s=50, \n",
    "                    label = 'Adelie',\n",
    "                    cmap=plt.cm.Paired)\n",
    "\n",
    "gentoo = plt.scatter(data_scaled[np.where(penguins_labels[\"species_int\"]==2),0], \n",
    "                    data_scaled[np.where(penguins_labels[\"species_int\"]==2),1], \n",
    "                    color=\"gold\", \n",
    "                    s=50, \n",
    "                    label = 'Gentoo',\n",
    "                    cmap=plt.cm.Paired)\n",
    "\n",
    "plt.legend()\n",
    "\n",
    "# get frame limits\n",
    "ax = plt.gca()\n",
    "xlim = ax.get_xlim()\n",
    "ylim = ax.get_ylim()\n",
    "\n",
    "# visualize support vectors with a cross\n",
    "ax.scatter(clf.support_vectors_[:, 0], \n",
    "           clf.support_vectors_[:, 1], \n",
    "           s=50, \n",
    "           linewidth=1, \n",
    "           marker='x', \n",
    "           color='k')\n",
    "\n",
    "# create grid to evaluate model\n",
    "xx = np.linspace(xlim[0], xlim[1], 30)\n",
    "yy = np.linspace(ylim[0], ylim[1], 30)\n",
    "YY, XX = np.meshgrid(yy, xx)\n",
    "xy = np.vstack([XX.ravel(), YY.ravel()]).T\n",
    "Z = clf.decision_function(xy).reshape(XX.shape)\n",
    "\n",
    "# plot decision boundary and margins\n",
    "ax.contour(XX, YY, Z, colors='k', levels=[-1, 0, 1], \n",
    "           alpha=0.5, linestyles=['--', '-', '--'])\n",
    "\n",
    "# format the plot\n",
    "plt.xticks(fontweight=\"bold\", fontsize=15)\n",
    "plt.yticks(fontweight=\"bold\", fontsize=15)\n",
    "plt.tight_layout()\n",
    "\n",
    "plt.show()"
   ]
  },
  {
   "cell_type": "code",
   "execution_count": null,
   "metadata": {},
   "outputs": [],
   "source": [
    "print(clf.score(data_scaled, labels))"
   ]
  },
  {
   "cell_type": "markdown",
   "metadata": {},
   "source": [
    "### Q2."
   ]
  },
  {
   "cell_type": "markdown",
   "metadata": {},
   "source": [
    "__Question :__ Quel est l'effet de la standardisation des variables sur la performance du classifieur ? Comment pouvez vous l'interpréter ?\n",
    "\n",
    "__Réponse :__ "
   ]
  },
  {
   "cell_type": "markdown",
   "metadata": {},
   "source": [
    "Pour la suite du TP, nous allons donc standardiser toutes les variables."
   ]
  },
  {
   "cell_type": "code",
   "execution_count": null,
   "metadata": {},
   "outputs": [],
   "source": [
    "std_scale = preprocessing.StandardScaler().fit(penguins_features)\n",
    "penguins_features_scaled = pd.DataFrame(std_scale.transform(penguins_features), columns=penguins_features.columns)"
   ]
  },
  {
   "cell_type": "markdown",
   "metadata": {},
   "source": [
    "### 3. Cas parfait"
   ]
  },
  {
   "cell_type": "markdown",
   "metadata": {},
   "source": [
    "Cette fois, nous allons nous intéresser aux variables **bill_length_mm** et **bill_depth_mm**."
   ]
  },
  {
   "cell_type": "code",
   "execution_count": null,
   "metadata": {},
   "outputs": [],
   "source": [
    "# Select the 2 features\n",
    "data = penguins_features_scaled[penguins_labels[\"species_int\"].isin([0,2])] \n",
    "data = np.array(data[[\"bill_length_mm\",\"bill_depth_mm\"]])\n",
    "print(\"X shape:\", data.shape)\n",
    "\n",
    "# select the corresponding labels\n",
    "labels = penguins_labels[penguins_labels[\"species_int\"].isin([0,2])]\n",
    "labels = np.array(labels[\"species_int\"])\n",
    "print(\"y shape:\", labels.shape)\n",
    "\n",
    "# initialize a model\n",
    "clf = svm.SVC(kernel='linear', C=10000)\n",
    "\n",
    "# fit the model\n",
    "clf.fit(X= data, y = labels)"
   ]
  },
  {
   "cell_type": "code",
   "execution_count": null,
   "metadata": {},
   "outputs": [],
   "source": [
    "plt.figure(figsize=(10, 10))\n",
    "\n",
    "# plot the point cloud\n",
    "adelie = plt.scatter(penguins_features_scaled[penguins_labels[\"species_int\"]==0]['bill_length_mm'], \n",
    "                     penguins_features_scaled[penguins_labels[\"species_int\"]==0]['bill_depth_mm'], \n",
    "                    color=\"royalblue\", \n",
    "                    s=50, \n",
    "                    label = 'Adelie',\n",
    "                    cmap=plt.cm.Paired)\n",
    "\n",
    "gentoo = plt.scatter(penguins_features_scaled[penguins_labels[\"species_int\"]==2]['bill_length_mm'], \n",
    "                    penguins_features_scaled[penguins_labels[\"species_int\"]==2]['bill_depth_mm'], \n",
    "                    color=\"gold\", \n",
    "                    s=50, \n",
    "                    label = 'Gentoo',\n",
    "                    cmap=plt.cm.Paired)\n",
    "\n",
    "plt.legend()\n",
    "\n",
    "# get frame limits\n",
    "ax = plt.gca()\n",
    "xlim = ax.get_xlim()\n",
    "ylim = ax.get_ylim()\n",
    "\n",
    "# visualize support vectors with a cross\n",
    "ax.scatter(clf.support_vectors_[:, 0], clf.support_vectors_[:, 1], \n",
    "           s=50, linewidth=1, marker='x', color='k')\n",
    "\n",
    "# create grid to evaluate model\n",
    "xx = np.linspace(xlim[0], xlim[1], 30)\n",
    "yy = np.linspace(ylim[0], ylim[1], 30)\n",
    "YY, XX = np.meshgrid(yy, xx)\n",
    "xy = np.vstack([XX.ravel(), YY.ravel()]).T\n",
    "Z = clf.decision_function(xy).reshape(XX.shape)\n",
    "\n",
    "# plot decision boundary and margins\n",
    "ax.contour(XX, YY, Z, colors='k', levels=[-1, 0], \n",
    "           alpha=0.5, linestyles=['--', '-'])\n",
    "\n",
    "# format the plot\n",
    "plt.xticks(fontweight=\"bold\", fontsize=15)\n",
    "plt.yticks(fontweight=\"bold\", fontsize=15)\n",
    "plt.tight_layout()\n",
    "\n",
    "plt.show()"
   ]
  },
  {
   "cell_type": "markdown",
   "metadata": {},
   "source": [
    "### Q3."
   ]
  },
  {
   "cell_type": "markdown",
   "metadata": {},
   "source": [
    "__Question :__ Que veut dire une performance de 1.0 ? Quels points sont vecteurs de supports ? \n",
    "\n",
    "__Réponse :__ "
   ]
  },
  {
   "cell_type": "markdown",
   "metadata": {},
   "source": [
    "### 4. Représentation de la matrice de Gram"
   ]
  },
  {
   "cell_type": "markdown",
   "metadata": {},
   "source": [
    "On peut interpréter le **noyau** (ou **kernel** ou **matrice de Gram**) comme une matrice de similarité entre les différentes observations. On s'appuie alors sur la ressemblance de certaines observations pour pouvoir les classifier. \n",
    "\n",
    "Nous allons représenter la matrice de Gram associée au précédent classifieur. Dans le cas d'un SVM à noyau linéaire, il s'agit du produit scalaire des variables. Pour que vous puissiez intuiter de manière juste la similarité entre les observations, nous allons nous ramener à une matrice avec des 1 sur la diagonale grâce à la fonction *center_an_normalise_kernel()*."
   ]
  },
  {
   "cell_type": "code",
   "execution_count": null,
   "metadata": {},
   "outputs": [],
   "source": [
    "import math\n",
    "\n",
    "def center_and_normalise_kernel(K_temp):\n",
    "\n",
    "    K_temp = preprocessing.KernelCenterer().fit_transform(K_temp)\n",
    "    nb_item = K_temp.shape[0]\n",
    "    K_norm = np.zeros((nb_item, nb_item))\n",
    "    for i in range(nb_item):\n",
    "        for j in range(i, nb_item):\n",
    "            K_norm[i, j] = K_temp[i, j] / math.sqrt(K_temp[i, i] * K_temp[j, j])\n",
    "            K_norm[j, i] = K_norm[i, j]\n",
    "\n",
    "    return K_norm"
   ]
  },
  {
   "cell_type": "code",
   "execution_count": null,
   "metadata": {},
   "outputs": [],
   "source": [
    "GramMatrix = np.inner(data, data)\n",
    "GramMatrix_scaled = center_and_normalise_kernel(GramMatrix)\n",
    "\n",
    "# heatmap + color map\n",
    "fig, ax = plt.subplots(figsize=(5, 5))\n",
    "plot = ax.imshow(GramMatrix_scaled) \n",
    "\n",
    "# set axes boundaries\n",
    "ax.set_xlim([0, data.shape[0]]) ; ax.set_ylim([0, data.shape[0]])\n",
    "\n",
    "# flip the y-axis\n",
    "ax.invert_yaxis() ; ax.xaxis.tick_top()\n",
    "\n",
    "# plot colorbar to the right\n",
    "plt.colorbar(plot, pad=0.1, fraction=0.04)"
   ]
  },
  {
   "cell_type": "markdown",
   "metadata": {},
   "source": [
    "### Q4.a"
   ]
  },
  {
   "cell_type": "markdown",
   "metadata": {},
   "source": [
    "__Question:__ Que remarquez-vous ? Est-ce vous auriez pu anticiper le fait que le classifieur \"sépare\" bien en ne regardant que la matrice de Gram ? \n",
    "\n",
    "__Réponse:__ "
   ]
  },
  {
   "cell_type": "code",
   "execution_count": null,
   "metadata": {},
   "outputs": [],
   "source": [
    "GramMatrix = np.inner(data, data)\n",
    "GramMatrix_scaled = center_and_normalise_kernel(GramMatrix)\n",
    "\n",
    "r = GramMatrix.shape[0]\n",
    "pr = np.random.permutation(np.arange(r))\n",
    "\n",
    "\n",
    "# heatmap + color map\n",
    "fig, ax = plt.subplots(figsize=(5, 5))\n",
    "plot = ax.imshow(GramMatrix_scaled[pr,:]) \n",
    "\n",
    "# set axes boundaries\n",
    "ax.set_xlim([0, data.shape[0]]) ; ax.set_ylim([0, data.shape[0]])\n",
    "\n",
    "# flip the y-axis\n",
    "ax.invert_yaxis() ; ax.xaxis.tick_top()\n",
    "\n",
    "# plot colorbar to the right\n",
    "plt.colorbar(plot, pad=0.1, fraction=0.04)"
   ]
  },
  {
   "cell_type": "markdown",
   "metadata": {},
   "source": [
    "### Q4.b\n",
    "\n",
    "__Question:__ Qu'observez vous ? A quoi doit-on faire attention lorsque nous observons une matrice de Gram ?\n",
    "\n",
    "__Réponse:__ "
   ]
  },
  {
   "cell_type": "markdown",
   "metadata": {},
   "source": [
    "### 5. Cas un peu plus compliqué"
   ]
  },
  {
   "cell_type": "markdown",
   "metadata": {},
   "source": [
    "Maintenant considérons les deux espèces: **Adelie (0)** et **Chinstrap (1)** et les variables: *body_mass_g* et *bill_depth_mm*."
   ]
  },
  {
   "cell_type": "code",
   "execution_count": null,
   "metadata": {},
   "outputs": [],
   "source": [
    "# Select the 2 features\n",
    "data = penguins_features_scaled[penguins_labels[\"species_int\"].isin([0,1])] \n",
    "data = np.array(data[[\"bill_depth_mm\", \"body_mass_g\"]])\n",
    "print(\"X shape:\", data.shape)\n",
    "\n",
    "# select the corresponding labels\n",
    "labels = penguins_labels[penguins_labels[\"species_int\"].isin([0,1])]\n",
    "labels = np.array(labels[\"species_int\"])\n",
    "print(\"y shape:\", labels.shape)\n",
    "\n",
    "# initialize a model\n",
    "clf = svm.SVC(kernel='linear', C=10)\n",
    "\n",
    "# fit the model\n",
    "clf.fit(X= data, y = labels)"
   ]
  },
  {
   "cell_type": "code",
   "execution_count": null,
   "metadata": {
    "ExecuteTime": {
     "end_time": "2019-11-05T14:45:39.675432Z",
     "start_time": "2019-11-05T14:45:38.951291Z"
    }
   },
   "outputs": [],
   "source": [
    "plt.figure(figsize=(10, 10))\n",
    "\n",
    "# plot the point cloud\n",
    "adelie = plt.scatter(penguins_features_scaled[penguins_labels[\"species_int\"]==0]['bill_depth_mm'], \n",
    "                     penguins_features_scaled[penguins_labels[\"species_int\"]==0]['body_mass_g'], \n",
    "                    color=\"royalblue\", \n",
    "                    s=50, \n",
    "                    label = 'Adelie',\n",
    "                    cmap=plt.cm.Paired)\n",
    "\n",
    "gentoo = plt.scatter(penguins_features_scaled[penguins_labels[\"species_int\"]==1]['bill_depth_mm'], \n",
    "                    penguins_features_scaled[penguins_labels[\"species_int\"]==1]['body_mass_g'], \n",
    "                    color=\"lightgreen\", \n",
    "                    s=50, \n",
    "                    label = 'Chinstrap',\n",
    "                    cmap=plt.cm.Paired)\n",
    "\n",
    "\n",
    "\n",
    "plt.legend()\n",
    "\n",
    "# get frame limits\n",
    "ax = plt.gca()\n",
    "\n",
    "ax.set_xlim(-2,2)\n",
    "ax.set_ylim(-2,2)\n",
    "\n",
    "xlim = ax.get_xlim()\n",
    "ylim = ax.get_ylim()\n",
    "\n",
    "# visualize support vectors with a cross\n",
    "ax.scatter(clf.support_vectors_[:, 0], \n",
    "           clf.support_vectors_[:, 1], \n",
    "           s=50, \n",
    "           linewidth=1, \n",
    "           marker='x', \n",
    "           color='k')\n",
    "\n",
    "# create grid to evaluate model\n",
    "xx = np.linspace(xlim[0], xlim[1], 30)\n",
    "yy = np.linspace(ylim[0], ylim[1], 30)\n",
    "YY, XX = np.meshgrid(yy, xx)\n",
    "xy = np.vstack([XX.ravel(), YY.ravel()]).T\n",
    "Z = clf.decision_function(xy).reshape(XX.shape)\n",
    "\n",
    "# plot decision boundary and margins\n",
    "ax.contour(XX, YY, Z, colors='k', levels=0, \n",
    "           alpha=0.5, linestyles=[ '-',])\n",
    "\n",
    "\n",
    "# format the plot\n",
    "plt.xticks(fontweight=\"bold\", fontsize=15)\n",
    "plt.yticks(fontweight=\"bold\", fontsize=15)\n",
    "plt.tight_layout()\n",
    "\n",
    "plt.show()"
   ]
  },
  {
   "cell_type": "markdown",
   "metadata": {},
   "source": [
    "Graphiquement, il n'est vraiment pas simple de distinguer et de séparer les deux espèces qu'avec une droite."
   ]
  },
  {
   "cell_type": "code",
   "execution_count": null,
   "metadata": {
    "ExecuteTime": {
     "end_time": "2019-11-05T14:45:39.679514Z",
     "start_time": "2019-11-05T14:45:39.676489Z"
    }
   },
   "outputs": [],
   "source": [
    "print(clf.score(data, labels))"
   ]
  },
  {
   "cell_type": "markdown",
   "metadata": {},
   "source": [
    "clf.predict(data)"
   ]
  },
  {
   "cell_type": "markdown",
   "metadata": {},
   "source": [
    "### Q5.a\n",
    "\n",
    "__Question:__ Quelle est la performance de ce modèle ? Que prédit l'algo ?\n",
    "\n",
    "__Réponse:__"
   ]
  },
  {
   "cell_type": "markdown",
   "metadata": {},
   "source": [
    "Representons la matrice de Gram"
   ]
  },
  {
   "cell_type": "code",
   "execution_count": null,
   "metadata": {},
   "outputs": [],
   "source": [
    "GramMatrix = np.inner(data, data)\n",
    "GramMatrix_scaled = center_and_normalise_kernel(GramMatrix)\n",
    "\n",
    "# heatmap + color map\n",
    "fig, ax = plt.subplots(figsize=(5, 5))\n",
    "plot = ax.imshow(GramMatrix_scaled) \n",
    "\n",
    "# set axes boundaries\n",
    "ax.set_xlim([0, data.shape[0]]) ; ax.set_ylim([0, data.shape[0]])\n",
    "\n",
    "# flip the y-axis\n",
    "ax.invert_yaxis() ; ax.xaxis.tick_top()\n",
    "\n",
    "# plot colorbar to the right\n",
    "plt.colorbar(plot, pad=0.1, fraction=0.04)"
   ]
  },
  {
   "cell_type": "markdown",
   "metadata": {},
   "source": [
    "### Q5.b\n",
    "\n",
    "__Question :__ Qu'observez-vous ?\n",
    "\n",
    "__Réponse :__"
   ]
  },
  {
   "cell_type": "markdown",
   "metadata": {},
   "source": [
    "Peut-être qu'il serait plus judicieux de regarder d'autres variables pour distinguer les classes 0 et 1."
   ]
  },
  {
   "cell_type": "code",
   "execution_count": null,
   "metadata": {},
   "outputs": [],
   "source": [
    "penguins_adelie_chinstrap = pd.concat([penguins_features[penguins_labels[\"species_int\"].isin([0,1])],\n",
    "                                    penguins_labels[penguins_labels[\"species_int\"].isin([0,1])]],\n",
    "                                     axis = 1)"
   ]
  },
  {
   "cell_type": "code",
   "execution_count": null,
   "metadata": {},
   "outputs": [],
   "source": [
    "import seaborn as sns\n",
    "sns.pairplot(penguins_adelie_chinstrap, hue=\"species_int\",palette=\"bright\")"
   ]
  },
  {
   "cell_type": "markdown",
   "metadata": {},
   "source": [
    "### Q5.c\n",
    "\n",
    "__Question :__\n",
    "Quel(s) couple(s) de variables pourrait-on utiliser pour avoir une meilleure séparation de ces deux classes ? \n",
    "\n",
    "__Réponse :__"
   ]
  },
  {
   "cell_type": "markdown",
   "metadata": {},
   "source": [
    "Refaites les étapes du III.5. pour ce couple de variable"
   ]
  },
  {
   "cell_type": "code",
   "execution_count": null,
   "metadata": {},
   "outputs": [],
   "source": [
    "# Réponse"
   ]
  },
  {
   "cell_type": "markdown",
   "metadata": {},
   "source": [
    "## IV. SVM à noyau non linéaire"
   ]
  },
  {
   "cell_type": "markdown",
   "metadata": {},
   "source": [
    "### 1. Noyau RBF"
   ]
  },
  {
   "cell_type": "markdown",
   "metadata": {},
   "source": [
    "Nous allons utiliser un **noyau RBF** ou **radial gaussien**, pour plusieurs valeurs du paramètre gamma. En classe nous avons donné la formule du noyau gaussien :\n",
    "\n",
    "\\begin{align}\n",
    "k(x, x') = \\exp\\bigg[-\\frac{||x - x'||^2}{2 \\sigma^2}\\bigg]\n",
    "\\end{align}\n",
    "\n",
    "Une autre définition implique le paramètre gamma, $\\gamma=\\frac{1}{2 \\sigma^{2}}$ : \n",
    "\n",
    "\\begin{align}\n",
    "k(x,x')=\\exp\\bigg[(-\\gamma\\||x - x'||^2\\bigg]\n",
    "\\end{align}"
   ]
  },
  {
   "cell_type": "markdown",
   "metadata": {},
   "source": [
    "### Q6.\n",
    "\n",
    "__Question :__ À quoi correspond le paramètre gamma dans la formule du noyau gaussien ?\n",
    "\n",
    "__Réponse :__"
   ]
  },
  {
   "cell_type": "markdown",
   "metadata": {},
   "source": [
    "Testons différentes valeurs de gamma."
   ]
  },
  {
   "cell_type": "code",
   "execution_count": null,
   "metadata": {
    "ExecuteTime": {
     "end_time": "2019-11-05T14:45:39.706435Z",
     "start_time": "2019-11-05T14:45:39.680911Z"
    }
   },
   "outputs": [],
   "source": [
    "data = penguins_features_scaled[penguins_labels[\"species_int\"].isin([0,1])] \n",
    "data = np.array(data[[\"bill_depth_mm\", \"bill_length_mm\"]])\n",
    "\n",
    "labels = penguins_labels[penguins_labels[\"species_int\"].isin([0,1])]\n",
    "labels = np.array(labels[\"species_int\"])\n",
    "\n",
    "# gamma values\n",
    "gamma_range = np.linspace(0.01, 200, 20)\n",
    "\n",
    "for param in gamma_range:\n",
    "    clf = svm.SVC(kernel='rbf', C=0.7, gamma=param)\n",
    "    clf.fit(data, labels)\n",
    "    score = clf.score(data, labels)\n",
    "    print(\"gamma: {0:.2f} | score: {1:.2f}\".format(param, score))"
   ]
  },
  {
   "cell_type": "markdown",
   "metadata": {},
   "source": [
    "### Q7.\n",
    "\n",
    "__Question :__ Quelle valeur de gamma serions-nous tenter de prendre pour avoir un meilleur modèle?\n",
    "\n",
    "__Réponse :__"
   ]
  },
  {
   "cell_type": "markdown",
   "metadata": {},
   "source": [
    "### 2. Généralisation"
   ]
  },
  {
   "cell_type": "markdown",
   "metadata": {},
   "source": [
    "Est-ce que ce modèle se __généralise__ bien, autrement dit, sera-t-il capable de faire de bonnes prédictions sur de nouvelles données que nous n'avons pas utilisées pour le construire ? \n",
    "\n",
    "Pour le savoir, nous allons séparer les données en un __jeu d'entraînement__ et un __jeu de test__. Nous allons entraîner nos SVMs sur le jeu d'entraînement seulement, et mesurer leur performance sur le jeu de test. Le jeu de test, étant inconnu au moment de l'entraînement, fait figure de nouvelles données. Pour cela nous allons utiliser la fonction [train_test_split](http://scikit-learn.org/stable/modules/generated/sklearn.model_selection.train_test_split.html) de scikit-learn.\n",
    "\n",
    "Nous devons faire le split sur les variables non standardisées, standardiser le jeu de train, puis standardiser le jeu de test en fonction de la variance et de la moyenne des variables du jeu de train."
   ]
  },
  {
   "cell_type": "code",
   "execution_count": null,
   "metadata": {
    "ExecuteTime": {
     "end_time": "2019-11-05T14:45:39.713509Z",
     "start_time": "2019-11-05T14:45:39.711346Z"
    }
   },
   "outputs": [],
   "source": [
    "from sklearn.model_selection import train_test_split"
   ]
  },
  {
   "cell_type": "code",
   "execution_count": null,
   "metadata": {
    "ExecuteTime": {
     "end_time": "2019-11-05T14:45:39.739963Z",
     "start_time": "2019-11-05T14:45:39.715097Z"
    }
   },
   "outputs": [],
   "source": [
    "# split the dataset between train and test\n",
    "data = penguins_features[penguins_labels[\"species_int\"].isin([0,1])] \n",
    "data = np.array(data[[\"bill_depth_mm\", \"bill_length_mm\"]])\n",
    "\n",
    "labels = penguins_labels[penguins_labels[\"species_int\"].isin([0,1])]\n",
    "labels = np.array(labels[\"species_int\"])\n",
    "\n",
    "X_train, X_test, y_train, y_test = train_test_split(data, \n",
    "                                                    labels, \n",
    "                                                    test_size=.2, \n",
    "                                                    random_state=21)"
   ]
  },
  {
   "cell_type": "code",
   "execution_count": null,
   "metadata": {},
   "outputs": [],
   "source": [
    "std_scale = preprocessing.StandardScaler().fit(X_train)\n",
    "X_train_scaled = std_scale.transform(X_train)\n",
    "X_test_scaled = std_scale.transform(X_test)"
   ]
  },
  {
   "cell_type": "code",
   "execution_count": null,
   "metadata": {
    "ExecuteTime": {
     "end_time": "2019-11-05T14:45:39.739963Z",
     "start_time": "2019-11-05T14:45:39.715097Z"
    }
   },
   "outputs": [],
   "source": [
    "# test the performance for different values of gamma\n",
    "acc_train, acc_test = list(), list()\n",
    "gamma_range = np.linspace(0.01, 200, 20)\n",
    "for param in gamma_range:\n",
    "    clf = svm.SVC(kernel='rbf', C=0.7, gamma=param)\n",
    "    clf.fit(X_train_scaled, y_train)\n",
    "    acc_train.append(clf.score(X_train_scaled, y_train))\n",
    "    acc_test.append(clf.score(X_test_scaled, y_test))"
   ]
  },
  {
   "cell_type": "markdown",
   "metadata": {},
   "source": [
    "Représentons la performance en fonction des valeurs de Gamma testées"
   ]
  },
  {
   "cell_type": "code",
   "execution_count": null,
   "metadata": {
    "ExecuteTime": {
     "end_time": "2019-11-05T14:45:40.204403Z",
     "start_time": "2019-11-05T14:45:39.741607Z"
    }
   },
   "outputs": [],
   "source": [
    "plt.figure(figsize=(10, 5))\n",
    "\n",
    "# plot train and test scores for different gamma values\n",
    "plt.plot(gamma_range, acc_train, label='train set', lw=4)\n",
    "plt.plot(gamma_range, acc_test, label='test set', lw=4)\n",
    "\n",
    "# add a legend\n",
    "plt.legend(loc='best', fontsize=12)\n",
    "\n",
    "# format the plot\n",
    "plt.xlabel(\"Gamma\", fontweight=\"bold\", fontsize=20)\n",
    "plt.ylabel(\"Performance\", fontweight=\"bold\", fontsize=20)\n",
    "plt.xticks(fontweight=\"bold\", fontsize=15)\n",
    "plt.yticks(fontweight=\"bold\", fontsize=15)\n",
    "plt.tight_layout()\n",
    "\n",
    "plt.show()"
   ]
  },
  {
   "cell_type": "markdown",
   "metadata": {},
   "source": [
    "### Q8.\n",
    "\n",
    "__Question :__ Observez-vous un effet de surapprentissage ? Où ? \n",
    "\n",
    "__Réponse :__ "
   ]
  },
  {
   "cell_type": "markdown",
   "metadata": {},
   "source": [
    "Le graphique ci-dessus nous donne envie de prendre pour le paramètre gamma une valeur autour de 10. Mais attention ! Si nous prenons le paramètre qui marche le mieux sur le dataset de test, nous risquons aussi de surapprendre : nous aurons alors utilisé le jeu de test pour choisir le meilleur modèle, autrement dit, nous aurons touché aux données smoi-disant inconnuees lors de l'apprentissage...\n",
    "\n",
    "Pour éviter cela, nous devons faire une __validation croisée__ (_cross-validation_) sur le jeu d'entraînement."
   ]
  },
  {
   "cell_type": "markdown",
   "metadata": {},
   "source": [
    "Regardons les performances en faisant varier les paramètres *gamma* et *C*.\n",
    "Nous allons pour cela utiliser la classe [GridSearchCV](http://scikit-learn.org/stable/modules/generated/sklearn.model_selection.GridSearchCV.html) du module model_selection de scikit-learn."
   ]
  },
  {
   "cell_type": "code",
   "execution_count": null,
   "metadata": {
    "ExecuteTime": {
     "end_time": "2019-11-05T14:45:40.208387Z",
     "start_time": "2019-11-05T14:45:40.205615Z"
    }
   },
   "outputs": [],
   "source": [
    "from sklearn.model_selection import GridSearchCV\n",
    "import warnings\n",
    "warnings.filterwarnings(\"ignore\", category=FutureWarning)"
   ]
  },
  {
   "cell_type": "code",
   "execution_count": null,
   "metadata": {
    "ExecuteTime": {
     "end_time": "2019-11-05T14:45:40.242347Z",
     "start_time": "2019-11-05T14:45:40.209870Z"
    }
   },
   "outputs": [],
   "source": [
    "# define a set of parameter to test\n",
    "parameters = {'gamma':[ 1, 10, 20, 50], \n",
    "             'C':[0.5, 0.7,1]}\n",
    "\n",
    "# initialize a model\n",
    "svc = svm.SVC(kernel='rbf')\n",
    "\n",
    "# initialize cross validation\n",
    "clf = GridSearchCV(estimator=svc, \n",
    "                   param_grid=parameters,\n",
    "                   cv=5)\n",
    "\n",
    "# run the cross validation using train dataset\n",
    "clf.fit(X_train_scaled, y_train)"
   ]
  },
  {
   "cell_type": "code",
   "execution_count": null,
   "metadata": {
    "ExecuteTime": {
     "end_time": "2019-11-05T14:45:40.499421Z",
     "start_time": "2019-11-05T14:45:40.243642Z"
    }
   },
   "outputs": [],
   "source": [
    "plt.figure(figsize=(10, 3))\n",
    "\n",
    "# format results from gridsearch\n",
    "scores = clf.cv_results_['mean_test_score'].reshape(len(parameters['gamma']), len(parameters['C']))\n",
    "print(scores)\n",
    "\n",
    "# plot performance scores\n",
    "# plt.imshow(scores, interpolation='none')\n",
    "plt.imshow(scores, interpolation='none', cmap=\"RdBu_r\")\n",
    "\n",
    "# add a colorbar\n",
    "plt.colorbar()\n",
    "\n",
    "# format the plot\n",
    "plt.title(\"Score\", fontweight=\"bold\", fontsize=20)\n",
    "plt.xlabel(\"C\", fontweight=\"bold\", fontsize=18)\n",
    "plt.ylabel(\"Gamma\", fontweight=\"bold\", fontsize=18)\n",
    "plt.ylim((-0.5, 3.5))\n",
    "plt.xticks(np.arange(len(parameters['C'])), parameters['C'], fontsize=15)\n",
    "plt.yticks(np.arange(len(parameters['gamma'])), parameters['gamma'], rotation=90, fontsize=15)\n",
    "plt.tight_layout()\n",
    "\n",
    "plt.show()"
   ]
  },
  {
   "cell_type": "markdown",
   "metadata": {},
   "source": [
    "### Q9.\n",
    "\n",
    "__Question :__ Quel est le rôle du paramètre C ? Qu'observez-vous quand C est grand ? \n",
    "\n",
    "__Réponse :__"
   ]
  },
  {
   "cell_type": "markdown",
   "metadata": {},
   "source": [
    "### Q10.\n",
    "\n",
    "__Question :__ Finalement, quelles valeurs de C et gamma allez vous prendre ?\n",
    "\n",
    "__Réponse :__ "
   ]
  },
  {
   "cell_type": "markdown",
   "metadata": {},
   "source": [
    "## Mise en pratique"
   ]
  },
  {
   "cell_type": "markdown",
   "metadata": {},
   "source": [
    "Sélectionnons les meilleurs paramètres de SVM pour la classification avec les 4 variables (*bill_depth_mm*,  *bill_length_mm*, *flipper_length_mm* et *body_mass_g*).\n",
    "\n",
    "__Question :__ Entraînez un SVM de classification pour séparer les données sur les deux problèmes (Adélie vs Gentoo, puis Adélie vs Chinstrap). Entraînez votre SVM en validation croisée sur le jeu d'entraînement. Quels paramètres pouvez-vous faire varier ? Quelle est la performance de votre modèle optimal _sur le jeu de test_ ? "
   ]
  },
  {
   "cell_type": "markdown",
   "metadata": {},
   "source": [
    "### 1) Adélie (0) vs Gentoo (2)"
   ]
  },
  {
   "cell_type": "code",
   "execution_count": null,
   "metadata": {
    "ExecuteTime": {
     "end_time": "2019-11-05T14:45:40.502862Z",
     "start_time": "2019-11-05T14:45:40.500881Z"
    }
   },
   "outputs": [],
   "source": [
    "# Réponse"
   ]
  },
  {
   "cell_type": "markdown",
   "metadata": {},
   "source": [
    "### 2) Adélie (0) vs Chinstrap (1)"
   ]
  },
  {
   "cell_type": "markdown",
   "metadata": {},
   "source": [
    "On reproduit la même chose pour ces classes."
   ]
  },
  {
   "cell_type": "code",
   "execution_count": null,
   "metadata": {
    "ExecuteTime": {
     "end_time": "2019-11-05T14:45:40.507053Z",
     "start_time": "2019-11-05T14:45:40.504726Z"
    }
   },
   "outputs": [],
   "source": [
    "# Réponse"
   ]
  },
  {
   "cell_type": "markdown",
   "metadata": {},
   "source": [
    "### Question bonus"
   ]
  },
  {
   "cell_type": "markdown",
   "metadata": {},
   "source": [
    "__Question :__ Comment construiriez-vous un modèle multi-classe, à base de SVMs, qui assigne une nouvelle observation à une des trois espèces Adélie (0), Chinstrap (1) ou Gentoo (2)?\n",
    "\n",
    "__Réponse :__"
   ]
  }
 ],
 "metadata": {
  "kernelspec": {
   "display_name": "Python 3 (ipykernel)",
   "language": "python",
   "name": "python3"
  },
  "language_info": {
   "codemirror_mode": {
    "name": "ipython",
    "version": 3
   },
   "file_extension": ".py",
   "mimetype": "text/x-python",
   "name": "python",
   "nbconvert_exporter": "python",
   "pygments_lexer": "ipython3",
   "version": "3.9.10"
  },
  "latex_envs": {
   "LaTeX_envs_menu_present": true,
   "autocomplete": true,
   "bibliofile": "biblio.bib",
   "cite_by": "apalike",
   "current_citInitial": 1,
   "eqLabelWithNumbers": true,
   "eqNumInitial": 1,
   "hotkeys": {
    "equation": "Ctrl-E",
    "itemize": "Ctrl-I"
   },
   "labels_anchors": false,
   "latex_user_defs": false,
   "report_style_numbering": false,
   "user_envs_cfg": false
  }
 },
 "nbformat": 4,
 "nbformat_minor": 2
}
